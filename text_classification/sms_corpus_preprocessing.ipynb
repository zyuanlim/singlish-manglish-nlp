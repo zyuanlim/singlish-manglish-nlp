{
 "cells": [
  {
   "cell_type": "markdown",
   "metadata": {},
   "source": [
    "# SMS Corpus Preprocessing\n",
    "\n",
    "Download and clean dataset. Optional as the cleaned dataset is already provided in corpus folder."
   ]
  },
  {
   "cell_type": "code",
   "execution_count": 1,
   "metadata": {},
   "outputs": [
    {
     "name": "stdout",
     "output_type": "stream",
     "text": [
      "--2020-08-28 08:13:10--  https://storage.googleapis.com/nlp-singlish-manglish/smsCorpus_en_2015.03.09_all.json.zip\n",
      "Resolving storage.googleapis.com (storage.googleapis.com)... 74.125.24.128, 74.125.200.128\n",
      "Connecting to storage.googleapis.com (storage.googleapis.com)|74.125.24.128|:443... connected.\n",
      "HTTP request sent, awaiting response... 200 OK\n",
      "Length: 2535167 (2.4M) [application/zip]\n",
      "Saving to: ‘../data/smsCorpus_en.json.zip’\n",
      "\n",
      "../data/smsCorpus_e 100%[===================>]   2.42M  9.94MB/s    in 0.2s    \n",
      "\n",
      "2020-08-28 08:13:10 (9.94 MB/s) - ‘../data/smsCorpus_en.json.zip’ saved [2535167/2535167]\n",
      "\n"
     ]
    }
   ],
   "source": [
    "!wget -O ../data/smsCorpus_en.json.zip https://storage.googleapis.com/nlp-singlish-manglish/smsCorpus_en_2015.03.09_all.json.zip"
   ]
  },
  {
   "cell_type": "code",
   "execution_count": 2,
   "metadata": {},
   "outputs": [
    {
     "name": "stdout",
     "output_type": "stream",
     "text": [
      "Archive:  ../data/smsCorpus_en.json.zip\n",
      "  inflating: ../data/smsCorpus_en_2015.03.09_all.json  \n"
     ]
    }
   ],
   "source": [
    "!unzip -o -d ../data ../data/smsCorpus_en.json.zip"
   ]
  },
  {
   "cell_type": "code",
   "execution_count": 3,
   "metadata": {},
   "outputs": [],
   "source": [
    "import json\n",
    "import pandas as pd"
   ]
  },
  {
   "cell_type": "code",
   "execution_count": 4,
   "metadata": {},
   "outputs": [],
   "source": [
    "with open(\"../data/smsCorpus_en_2015.03.09_all.json\") as f:\n",
    "    sms = json.loads(f.read())"
   ]
  },
  {
   "cell_type": "code",
   "execution_count": 5,
   "metadata": {},
   "outputs": [],
   "source": [
    "sms_df = pd.DataFrame(sms[\"smsCorpus\"][\"message\"])"
   ]
  },
  {
   "cell_type": "code",
   "execution_count": 6,
   "metadata": {},
   "outputs": [
    {
     "data": {
      "text/plain": [
       "(55835, 6)"
      ]
     },
     "execution_count": 6,
     "metadata": {},
     "output_type": "execute_result"
    }
   ],
   "source": [
    "sms_df.shape"
   ]
  },
  {
   "cell_type": "code",
   "execution_count": 7,
   "metadata": {},
   "outputs": [],
   "source": [
    "sms_df[\"user_id\"] = sms_df.source.apply(lambda s: s[\"srcNumber\"][\"$\"])"
   ]
  },
  {
   "cell_type": "code",
   "execution_count": 8,
   "metadata": {},
   "outputs": [
    {
     "data": {
      "text/plain": [
       "23249055a638bbc9b1fc5eb7dac9b4259524183451bc74bc                    4951\n",
       "0                                                                   4754\n",
       "975bd06869dccbc3b74b999a840f68a537795b6c8b833dfe                    3976\n",
       "c3e3c793bbdb71d520fa190b5c23b4cf796b52d96b40d9d938cc3db68eb0e909    3383\n",
       "df501e0b21bc88cc1e464dd95bf722da8865851c93267498                    2621\n",
       "                                                                    ... \n",
       "40                                                                     1\n",
       "39                                                                     1\n",
       "38                                                                     1\n",
       "132                                                                    1\n",
       "48                                                                     1\n",
       "Name: user_id, Length: 343, dtype: int64"
      ]
     },
     "execution_count": 8,
     "metadata": {},
     "output_type": "execute_result"
    }
   ],
   "source": [
    "sms_df.user_id.value_counts()"
   ]
  },
  {
   "cell_type": "code",
   "execution_count": 9,
   "metadata": {},
   "outputs": [],
   "source": [
    "sms_df[\"text\"] = sms_df.text.apply(lambda s: s[\"$\"])"
   ]
  },
  {
   "cell_type": "code",
   "execution_count": 10,
   "metadata": {},
   "outputs": [],
   "source": [
    "# drop duplicated text\n",
    "sms_df.drop_duplicates(subset=[\"text\"], inplace=True)"
   ]
  },
  {
   "cell_type": "code",
   "execution_count": 11,
   "metadata": {},
   "outputs": [],
   "source": [
    "# filter users with at least 10 smses\n",
    "sms_df = sms_df.groupby(\"user_id\").filter(lambda x: len(x) >= 10)"
   ]
  },
  {
   "cell_type": "code",
   "execution_count": 12,
   "metadata": {},
   "outputs": [
    {
     "data": {
      "text/plain": [
       "(48092, 7)"
      ]
     },
     "execution_count": 12,
     "metadata": {},
     "output_type": "execute_result"
    }
   ],
   "source": [
    "sms_df.shape"
   ]
  },
  {
   "cell_type": "code",
   "execution_count": 13,
   "metadata": {},
   "outputs": [],
   "source": [
    "# remap user id from 0 to N\n",
    "user_id_remap = {value:ix for ix, value in enumerate(sms_df.user_id.unique())}"
   ]
  },
  {
   "cell_type": "code",
   "execution_count": 14,
   "metadata": {},
   "outputs": [],
   "source": [
    "sms_df.user_id.replace(user_id_remap, inplace=True)"
   ]
  },
  {
   "cell_type": "code",
   "execution_count": 15,
   "metadata": {},
   "outputs": [
    {
     "data": {
      "text/plain": [
       "199"
      ]
     },
     "execution_count": 15,
     "metadata": {},
     "output_type": "execute_result"
    }
   ],
   "source": [
    "sms_df.user_id.nunique()"
   ]
  },
  {
   "cell_type": "code",
   "execution_count": 16,
   "metadata": {},
   "outputs": [
    {
     "data": {
      "text/plain": [
       "(48092, 7)"
      ]
     },
     "execution_count": 16,
     "metadata": {},
     "output_type": "execute_result"
    }
   ],
   "source": [
    "sms_df.shape"
   ]
  },
  {
   "cell_type": "code",
   "execution_count": 17,
   "metadata": {},
   "outputs": [],
   "source": [
    "sms_df[[\"user_id\", \"text\"]].to_csv(\"../corpus/sg_sms_corpus_en.csv\", index=False)"
   ]
  }
 ],
 "metadata": {
  "kernelspec": {
   "display_name": "NLP",
   "language": "python",
   "name": "nlp"
  },
  "language_info": {
   "codemirror_mode": {
    "name": "ipython",
    "version": 3
   },
   "file_extension": ".py",
   "mimetype": "text/x-python",
   "name": "python",
   "nbconvert_exporter": "python",
   "pygments_lexer": "ipython3",
   "version": "3.8.5"
  },
  "toc": {
   "base_numbering": 1,
   "nav_menu": {},
   "number_sections": true,
   "sideBar": true,
   "skip_h1_title": false,
   "title_cell": "Table of Contents",
   "title_sidebar": "Contents",
   "toc_cell": false,
   "toc_position": {},
   "toc_section_display": true,
   "toc_window_display": false
  },
  "varInspector": {
   "cols": {
    "lenName": 16,
    "lenType": 16,
    "lenVar": 40
   },
   "kernels_config": {
    "python": {
     "delete_cmd_postfix": "",
     "delete_cmd_prefix": "del ",
     "library": "var_list.py",
     "varRefreshCmd": "print(var_dic_list())"
    },
    "r": {
     "delete_cmd_postfix": ") ",
     "delete_cmd_prefix": "rm(",
     "library": "var_list.r",
     "varRefreshCmd": "cat(var_dic_list()) "
    }
   },
   "types_to_exclude": [
    "module",
    "function",
    "builtin_function_or_method",
    "instance",
    "_Feature"
   ],
   "window_display": false
  }
 },
 "nbformat": 4,
 "nbformat_minor": 4
}
