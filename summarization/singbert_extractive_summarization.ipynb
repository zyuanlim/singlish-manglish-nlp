{
 "cells": [
  {
   "cell_type": "markdown",
   "metadata": {},
   "source": [
    "# Singbert Extractive Summarization"
   ]
  },
  {
   "cell_type": "markdown",
   "metadata": {},
   "source": [
    "Download the spacy medium english model (only need to do this once)."
   ]
  },
  {
   "cell_type": "code",
   "execution_count": null,
   "metadata": {},
   "outputs": [],
   "source": [
    "!python -m spacy download en_core_web_md"
   ]
  },
  {
   "cell_type": "code",
   "execution_count": 1,
   "metadata": {},
   "outputs": [],
   "source": [
    "from transformers import BertTokenizer, BertModel\n",
    "from summarizer import Summarizer"
   ]
  },
  {
   "cell_type": "code",
   "execution_count": 2,
   "metadata": {},
   "outputs": [],
   "source": [
    "# allow up to 10 mins to download the model when running for the first time\n",
    "tokenizer = BertTokenizer.from_pretrained(\"zanelim/singbert-large-sg\")\n",
    "model = BertModel.from_pretrained(\"zanelim/singbert-large-sg\")"
   ]
  },
  {
   "cell_type": "code",
   "execution_count": 3,
   "metadata": {},
   "outputs": [],
   "source": [
    "model.config.output_hidden_states = True"
   ]
  },
  {
   "cell_type": "code",
   "execution_count": 4,
   "metadata": {},
   "outputs": [],
   "source": [
    "summarizer = Summarizer(custom_model=model, custom_tokenizer=tokenizer)"
   ]
  },
  {
   "cell_type": "markdown",
   "metadata": {},
   "source": [
    "here we use the NDP 2020 Speech by the PM to demonstrate the extractive summarization capability of SingBERT"
   ]
  },
  {
   "cell_type": "code",
   "execution_count": 5,
   "metadata": {},
   "outputs": [],
   "source": [
    "text = \"\"\"\n",
    "My fellow Singaporeans,\n",
    "\n",
    "Every year, rain or shine, Singaporeans come together on the 9th of August for the National Day Parade, to celebrate the making of our nation, and renew our commitment to Singapore.\n",
    "\n",
    "I have been privileged to attend almost every NDP since the first in 1966. One of the Parades I took part in was in 1968 at the Padang. The rain poured down, but the contingents stood steady, and marched past proudly, drenched, yet undaunted. We showed ourselves and the world that Singaporeans were rugged people, and had the steel in us to stand firm in adversity. Five years ago, SG50 was another memorable Parade. We celebrated our Golden Jubilee, and what we had achieved in Singapore. We also paid tribute to our founding Prime Minister, Mr Lee Kuan Yew. We mourned his passing that year, but also affirmed what he and the pioneer leaders stood for.\n",
    "\n",
    "In good years, our parades rejoice in our progress, and look forward to a better future together.\n",
    "\n",
    "In difficult years, we still hold National Day Parades, to renew our resolve to weather the storm and take Singapore through to better days.\n",
    "\n",
    "This year, National Day falls amidst COVID-19. We are not able to celebrate in our usual way, but we are determined still to hold the Parade as a symbol of our unity as a nation, like we have done every year since independence. We will have a smaller Parade at the Padang, and also ceremonies at seven other locations around the island this morning. Each location will symbolise one aspect of our response to COVID-19 – Providing medical care for Singaporeans at NCID; supporting our workforce with skills and jobs at the Lifelong Learning Institute; keeping learning going for our students at North Vista Secondary School; or sustaining our community spirit at Kampung Admiralty. We look forward to Singaporeans across the island, and also in far-flung lands, joining the Parade virtually and celebrating with one another. We will all share special moments like when the Red Lions land, the mobile column reaches our town, or the State Flag is flown past. We will all recite the Pledge and sing Majulah Singapura in our hearts together.\n",
    "\n",
    "This NDP is also an opportunity for us to salute those on our frontline, fighting COVID-19.\n",
    "\n",
    "Many of them have gone way beyond the call of duty, and shown great generosity of spirit. Retired doctors and nurses volunteered to come back, donning PPE to serve on the front lines, in hospitals and migrant worker dormitories. Full-time national servicemen extended their terms to continue supporting COVID-19 operations. Public officers volunteered to be redeployed to organise and look after the migrant workers. Many Singaporeans stepped up to help others in need. Some went door to door distributing meals and groceries to the elderly and low-income households. Others refurbished donated laptops for needy students, for home-based learning. Thousands of public-spirited Singaporeans volunteered to be trained for swab operations. They served in the hot zones, including the dormitories and community care facilities. Migrant workers too played their part to support these operations. Their help was deeply appreciated by our SAF, Home Team and public officers.\n",
    "\n",
    "These selfless acts have made all the difference to our response to COVID-19.\n",
    "\n",
    "We will need this unity and resilience more than ever. The crisis is far from over. Many countries brought COVID-19 under control and eased restrictions, only to see their cases rise sharply again. This can happen to us too, despite all our precautions. It will most likely take a year or two before a vaccine is widely available, and the threat of the virus is blunted. Until then, we have to maintain our vigilance and resolve, to keep ourselves, our loved ones and our neighbours all safe.\n",
    "\n",
    "We also need to be resilient in the face of the severe economic downturn. Singaporeans are understandably anxious and worried. Business closures, retrenchments and unemployment are all likely to go up in the coming months.\n",
    "\n",
    "But this is not the first economic crisis we have experienced. Just in the last quarter century, we have seen the Asian Financial Crisis (1997-1998), the aftermath of the 9/11 terrorist attacks (2001), and the Global Financial Crisis (2007-2009). Each time the outlook was ominous, and we feared the worst, but each time we worked hard to secure our position, gritted our teeth, and came through together.\n",
    "\n",
    "I am confident we will get through this current crisis too, though it may take longer. All of us must do our part, but none of us will be alone. The government is actively helping people find new jobs and acquire new skills. We also have the Jobs Support Scheme (JSS) and Self-employed person Income Relief Scheme (SIRS) to ease the burden on employers and individuals. The Labour Movement is working with employers to create job training programmes and career pathways. It will also ensure that every worker is treated fairly and with dignity, especially when job losses cannot be avoided. Employers too must make every effort to keep their workers, and not drop them at the first sign of trouble. This will build loyalty, and encourage the employees to help their employers rebuild when conditions improve.\n",
    "\n",
    "Our experience fighting COVID-19, grim and hard as it has been, has brought us closer together. The shared ordeal will toughen a whole population, and bond us together as one united people. Just like how the Pioneer and Merdeka Generations were tempered by Separation and Independence, and economic crises in our early years as a nation.\n",
    "\n",
    "Let us brace ourselves for the trials ahead, so that many years from now, when our grandchildren celebrate National Day, they will look back on these times and say yes, this generation stood together, sacrificed for one another, and built Singapore for us.\n",
    "\n",
    "Every National Day, we remind ourselves that Singapore is a nation whose story is worth celebrating, whose history is worth cherishing, and whose future is worth building.\n",
    "\n",
    "When we hold the National Day Parade at the Padang, or at the Float@Marina Bay, the audience can see the Marina Bay skyline in the background. Marina Bay used to be open sea, but we reclaimed the land around it, turned the ocean into a reservoir, and progressively built on the new land, to create an outstanding and vibrant downtown. Looking out across the Bay, you can immediately see how far Singapore has come, and imagine the possibility and promise that Singapore holds.\n",
    "\n",
    "Today, when National Service recruits complete their Basic Military Training (BMT), they gather their families and friends at the Float and hold their passing out parade there. It helps them to understand what they are defending, and why generations of national servicemen have been willing to serve and sacrifice, to defend this metropolis that we have built together, and also the society that created all this: Our families. Our friends. Our lives. Our future.\n",
    "\n",
    "Three years ago, I announced that we would rebuild the Float into a permanent space to commemorate National Service, and the central role that NS plays in Singapore, and that we would name this space, NS Square. The design contract has been awarded. This is how it will look like. The development will be aligned on a central axis, with The Promontory on the opposite side of the Bay. The platform will become a red dot, shining bright in our city. NS Square will be the central focus of our new downtown. We will build a gallery there to showcase our National Service story, and honour the contributions of national servicemen past and present. NS Square will also be a community space for everyone, young and old, to enjoy. And of course, we will continue to hold our National Day Parades there.\n",
    "\n",
    "This National Day, as we celebrate across the island, we will be saying the Pledge and singing Majulah Singapura in unison – not aloud as usual because of COVID- 19, but in our hearts, with more feeling than ever.\n",
    "\n",
    "We have dreams to realise, and goals to reach for. Let us show the world that whatever the challenges, Singaporeans will stay united, and prevail once more.\n",
    "\n",
    "I wish everyone a very happy National Day!\n",
    "\"\"\""
   ]
  },
  {
   "cell_type": "code",
   "execution_count": 6,
   "metadata": {},
   "outputs": [],
   "source": [
    "summary = summarizer(text)"
   ]
  },
  {
   "cell_type": "code",
   "execution_count": 7,
   "metadata": {},
   "outputs": [
    {
     "name": "stdout",
     "output_type": "stream",
     "text": [
      "My fellow Singaporeans,\n",
      "\n",
      "Every year, rain or shine, Singaporeans come together on the 9th of August for the National Day Parade, to celebrate the making of our nation, and renew our commitment to Singapore. One of the Parades I took part in was in 1968 at the Padang. In difficult years, we still hold National Day Parades, to renew our resolve to weather the storm and take Singapore through to better days. Retired doctors and nurses volunteered to come back, donning PPE to serve on the front lines, in hospitals and migrant worker dormitories. Some went door to door distributing meals and groceries to the elderly and low-income households. Thousands of public-spirited Singaporeans volunteered to be trained for swab operations. But this is not the first economic crisis we have experienced. It will also ensure that every worker is treated fairly and with dignity, especially when job losses cannot be avoided. Let us brace ourselves for the trials ahead, so that many years from now, when our grandchildren celebrate National Day, they will look back on these times and say yes, this generation stood together, sacrificed for one another, and built Singapore for us. When we hold the National Day Parade at the Padang, or at the Float@Marina Bay, the audience can see the Marina Bay skyline in the background. NS Square will be the central focus of our new downtown. We will build a gallery there to showcase our National Service story, and honour the contributions of national servicemen past and present. This National Day, as we celebrate across the island, we will be saying the Pledge and singing Majulah Singapura in unison – not aloud as usual because of COVID- 19, but in our hearts, with more feeling than ever. We have dreams to realise, and goals to reach for. I wish everyone a very happy National Day!\n"
     ]
    }
   ],
   "source": [
    "print(summary)"
   ]
  }
 ],
 "metadata": {
  "kernelspec": {
   "display_name": "NLP",
   "language": "python",
   "name": "nlp"
  },
  "language_info": {
   "codemirror_mode": {
    "name": "ipython",
    "version": 3
   },
   "file_extension": ".py",
   "mimetype": "text/x-python",
   "name": "python",
   "nbconvert_exporter": "python",
   "pygments_lexer": "ipython3",
   "version": "3.8.5"
  },
  "toc": {
   "base_numbering": 1,
   "nav_menu": {},
   "number_sections": true,
   "sideBar": true,
   "skip_h1_title": false,
   "title_cell": "Table of Contents",
   "title_sidebar": "Contents",
   "toc_cell": false,
   "toc_position": {},
   "toc_section_display": true,
   "toc_window_display": false
  },
  "varInspector": {
   "cols": {
    "lenName": 16,
    "lenType": 16,
    "lenVar": 40
   },
   "kernels_config": {
    "python": {
     "delete_cmd_postfix": "",
     "delete_cmd_prefix": "del ",
     "library": "var_list.py",
     "varRefreshCmd": "print(var_dic_list())"
    },
    "r": {
     "delete_cmd_postfix": ") ",
     "delete_cmd_prefix": "rm(",
     "library": "var_list.r",
     "varRefreshCmd": "cat(var_dic_list()) "
    }
   },
   "types_to_exclude": [
    "module",
    "function",
    "builtin_function_or_method",
    "instance",
    "_Feature"
   ],
   "window_display": false
  }
 },
 "nbformat": 4,
 "nbformat_minor": 4
}
