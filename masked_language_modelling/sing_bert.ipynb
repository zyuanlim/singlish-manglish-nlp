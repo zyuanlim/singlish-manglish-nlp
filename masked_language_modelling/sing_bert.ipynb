{
 "cells": [
  {
   "cell_type": "markdown",
   "metadata": {},
   "source": [
    "# Masked Language Modelling\n",
    "\n",
    "As the SingBERT models were pre-trained on MLM and Next Sentence Prediction tasks, this is to demonstrate the efficacy of the models on one of the pre-training tasks."
   ]
  },
  {
   "cell_type": "code",
   "execution_count": 1,
   "metadata": {},
   "outputs": [],
   "source": [
    "from transformers import pipeline"
   ]
  },
  {
   "cell_type": "code",
   "execution_count": 2,
   "metadata": {},
   "outputs": [],
   "source": [
    "import warnings\n",
    "warnings.filterwarnings('ignore')"
   ]
  },
  {
   "cell_type": "markdown",
   "metadata": {},
   "source": [
    "## SingBERT (base)\n",
    "\n",
    "here we use `[MASK]` to specify the \"blank\" in which the model should fill"
   ]
  },
  {
   "cell_type": "code",
   "execution_count": 3,
   "metadata": {},
   "outputs": [
    {
     "name": "stderr",
     "output_type": "stream",
     "text": [
      "Some weights of the model checkpoint at zanelim/singbert were not used when initializing BertForMaskedLM: ['cls.seq_relationship.weight', 'cls.seq_relationship.bias']\n",
      "- This IS expected if you are initializing BertForMaskedLM from the checkpoint of a model trained on another task or with another architecture (e.g. initializing a BertForSequenceClassification model from a BertForPretraining model).\n",
      "- This IS NOT expected if you are initializing BertForMaskedLM from the checkpoint of a model that you expect to be exactly identical (initializing a BertForSequenceClassification model from a BertForSequenceClassification model).\n"
     ]
    }
   ],
   "source": [
    "# allow up to 10 mins to download the model when running for the first time\n",
    "unmasker = pipeline('fill-mask', model='zanelim/singbert')"
   ]
  },
  {
   "cell_type": "code",
   "execution_count": 4,
   "metadata": {},
   "outputs": [
    {
     "data": {
      "text/plain": [
       "[{'sequence': '[CLS] kopi c siew dai [SEP]',\n",
       "  'score': 0.5092713236808777,\n",
       "  'token': 18765,\n",
       "  'token_str': 'dai'},\n",
       " {'sequence': '[CLS] kopi c siew mai [SEP]',\n",
       "  'score': 0.3515934646129608,\n",
       "  'token': 14736,\n",
       "  'token_str': 'mai'},\n",
       " {'sequence': '[CLS] kopi c siew bao [SEP]',\n",
       "  'score': 0.05576375499367714,\n",
       "  'token': 25945,\n",
       "  'token_str': 'bao'},\n",
       " {'sequence': '[CLS] kopi c siew. [SEP]',\n",
       "  'score': 0.006019321270287037,\n",
       "  'token': 1012,\n",
       "  'token_str': '.'},\n",
       " {'sequence': '[CLS] kopi c siew sai [SEP]',\n",
       "  'score': 0.0038361591286957264,\n",
       "  'token': 18952,\n",
       "  'token_str': 'sai'}]"
      ]
     },
     "execution_count": 4,
     "metadata": {},
     "output_type": "execute_result"
    }
   ],
   "source": [
    "unmasker(\"kopi c siew [MASK]\")"
   ]
  },
  {
   "cell_type": "code",
   "execution_count": 5,
   "metadata": {},
   "outputs": [
    {
     "data": {
      "text/plain": [
       "[{'sequence': '[CLS] one teh c siew dai, and one kopi c [SEP]',\n",
       "  'score': 0.6176503300666809,\n",
       "  'token': 1039,\n",
       "  'token_str': 'c'},\n",
       " {'sequence': '[CLS] one teh c siew dai, and one kopi o [SEP]',\n",
       "  'score': 0.21094971895217896,\n",
       "  'token': 1051,\n",
       "  'token_str': 'o'},\n",
       " {'sequence': '[CLS] one teh c siew dai, and one kopi. [SEP]',\n",
       "  'score': 0.13027705252170563,\n",
       "  'token': 1012,\n",
       "  'token_str': '.'},\n",
       " {'sequence': '[CLS] one teh c siew dai, and one kopi! [SEP]',\n",
       "  'score': 0.004680239595472813,\n",
       "  'token': 999,\n",
       "  'token_str': '!'},\n",
       " {'sequence': '[CLS] one teh c siew dai, and one kopi w [SEP]',\n",
       "  'score': 0.002034128177911043,\n",
       "  'token': 1059,\n",
       "  'token_str': 'w'}]"
      ]
     },
     "execution_count": 5,
     "metadata": {},
     "output_type": "execute_result"
    }
   ],
   "source": [
    "unmasker(\"one teh c siew dai, and one kopi [MASK]\")"
   ]
  },
  {
   "cell_type": "code",
   "execution_count": 6,
   "metadata": {},
   "outputs": [
    {
     "data": {
      "text/plain": [
       "[{'sequence': '[CLS] die die must try [SEP]',\n",
       "  'score': 0.9552758932113647,\n",
       "  'token': 3280,\n",
       "  'token_str': 'die'},\n",
       " {'sequence': '[CLS] die also must try [SEP]',\n",
       "  'score': 0.03644804656505585,\n",
       "  'token': 2036,\n",
       "  'token_str': 'also'},\n",
       " {'sequence': '[CLS] die liao must try [SEP]',\n",
       "  'score': 0.003282855963334441,\n",
       "  'token': 727,\n",
       "  'token_str': 'liao'},\n",
       " {'sequence': '[CLS] die already must try [SEP]',\n",
       "  'score': 0.0004937972989864647,\n",
       "  'token': 2525,\n",
       "  'token_str': 'already'},\n",
       " {'sequence': '[CLS] die hard must try [SEP]',\n",
       "  'score': 0.0003659659414552152,\n",
       "  'token': 2524,\n",
       "  'token_str': 'hard'}]"
      ]
     },
     "execution_count": 6,
     "metadata": {},
     "output_type": "execute_result"
    }
   ],
   "source": [
    "unmasker(\"die [MASK] must try\")"
   ]
  },
  {
   "cell_type": "code",
   "execution_count": 7,
   "metadata": {},
   "outputs": [
    {
     "data": {
      "text/plain": [
       "[{'sequence': '[CLS] dont play play leh [SEP]',\n",
       "  'score': 0.9281464219093323,\n",
       "  'token': 2377,\n",
       "  'token_str': 'play'},\n",
       " {'sequence': '[CLS] dont play politics leh [SEP]',\n",
       "  'score': 0.010990909300744534,\n",
       "  'token': 4331,\n",
       "  'token_str': 'politics'},\n",
       " {'sequence': '[CLS] dont play punk leh [SEP]',\n",
       "  'score': 0.005583590362221003,\n",
       "  'token': 7196,\n",
       "  'token_str': 'punk'},\n",
       " {'sequence': '[CLS] dont play dirty leh [SEP]',\n",
       "  'score': 0.0025784350000321865,\n",
       "  'token': 6530,\n",
       "  'token_str': 'dirty'},\n",
       " {'sequence': '[CLS] dont play cheat leh [SEP]',\n",
       "  'score': 0.0025066907983273268,\n",
       "  'token': 21910,\n",
       "  'token_str': 'cheat'}]"
      ]
     },
     "execution_count": 7,
     "metadata": {},
     "output_type": "execute_result"
    }
   ],
   "source": [
    "unmasker(\"dont play [MASK] leh\")"
   ]
  },
  {
   "cell_type": "code",
   "execution_count": 8,
   "metadata": {},
   "outputs": [
    {
     "data": {
      "text/plain": [
       "[{'sequence': '[CLS] confirm plus chop [SEP]',\n",
       "  'score': 0.992355227470398,\n",
       "  'token': 24494,\n",
       "  'token_str': 'chop'},\n",
       " {'sequence': '[CLS] confirm plus one [SEP]',\n",
       "  'score': 0.0037301010452210903,\n",
       "  'token': 2028,\n",
       "  'token_str': 'one'},\n",
       " {'sequence': '[CLS] confirm plus minus [SEP]',\n",
       "  'score': 0.0014284878270700574,\n",
       "  'token': 15718,\n",
       "  'token_str': 'minus'},\n",
       " {'sequence': '[CLS] confirm plus 1 [SEP]',\n",
       "  'score': 0.0011354683665558696,\n",
       "  'token': 1015,\n",
       "  'token_str': '1'},\n",
       " {'sequence': '[CLS] confirm plus chopped [SEP]',\n",
       "  'score': 0.0003804611915256828,\n",
       "  'token': 24881,\n",
       "  'token_str': 'chopped'}]"
      ]
     },
     "execution_count": 8,
     "metadata": {},
     "output_type": "execute_result"
    }
   ],
   "source": [
    "unmasker(\"confirm plus [MASK]\")"
   ]
  },
  {
   "cell_type": "code",
   "execution_count": 9,
   "metadata": {},
   "outputs": [
    {
     "data": {
      "text/plain": [
       "[{'sequence': '[CLS] catch no ball [SEP]',\n",
       "  'score': 0.7922210693359375,\n",
       "  'token': 3608,\n",
       "  'token_str': 'ball'},\n",
       " {'sequence': '[CLS] catch no balls [SEP]',\n",
       "  'score': 0.20503675937652588,\n",
       "  'token': 7395,\n",
       "  'token_str': 'balls'},\n",
       " {'sequence': '[CLS] catch no tail [SEP]',\n",
       "  'score': 0.0006608376861549914,\n",
       "  'token': 5725,\n",
       "  'token_str': 'tail'},\n",
       " {'sequence': '[CLS] catch no talent [SEP]',\n",
       "  'score': 0.0002158183924620971,\n",
       "  'token': 5848,\n",
       "  'token_str': 'talent'},\n",
       " {'sequence': '[CLS] catch no prisoners [SEP]',\n",
       "  'score': 5.3481446229852736e-05,\n",
       "  'token': 5895,\n",
       "  'token_str': 'prisoners'}]"
      ]
     },
     "execution_count": 9,
     "metadata": {},
     "output_type": "execute_result"
    }
   ],
   "source": [
    "unmasker(\"catch no [MASK]\")"
   ]
  },
  {
   "cell_type": "markdown",
   "metadata": {},
   "source": [
    "## SingBERT (large)\n",
    "\n",
    "beside the examples above, `[MASK]` can also be used to answer factual questions\n",
    "\n",
    "here we use SingBERT large to demonstrate that but it should be applicable to SingBERT base too"
   ]
  },
  {
   "cell_type": "code",
   "execution_count": 10,
   "metadata": {},
   "outputs": [
    {
     "name": "stderr",
     "output_type": "stream",
     "text": [
      "Some weights of the model checkpoint at zanelim/singbert-large-sg were not used when initializing BertForMaskedLM: ['cls.seq_relationship.weight', 'cls.seq_relationship.bias']\n",
      "- This IS expected if you are initializing BertForMaskedLM from the checkpoint of a model trained on another task or with another architecture (e.g. initializing a BertForSequenceClassification model from a BertForPretraining model).\n",
      "- This IS NOT expected if you are initializing BertForMaskedLM from the checkpoint of a model that you expect to be exactly identical (initializing a BertForSequenceClassification model from a BertForSequenceClassification model).\n"
     ]
    }
   ],
   "source": [
    "# allow up to 10 mins to download the model when running for the first time\n",
    "unmasker = pipeline('fill-mask', model='zanelim/singbert-large-sg')"
   ]
  },
  {
   "cell_type": "code",
   "execution_count": 11,
   "metadata": {},
   "outputs": [
    {
     "data": {
      "text/plain": [
       "[{'sequence': '[CLS] lee hsien loong is the son of amk [SEP]',\n",
       "  'score': 0.40440040826797485,\n",
       "  'token': 2365,\n",
       "  'token_str': 'son'},\n",
       " {'sequence': '[CLS] lee hsien loong is the mp of amk [SEP]',\n",
       "  'score': 0.20868946611881256,\n",
       "  'token': 6131,\n",
       "  'token_str': 'mp'},\n",
       " {'sequence': '[CLS] lee hsien loong is the boss of amk [SEP]',\n",
       "  'score': 0.08679094165563583,\n",
       "  'token': 5795,\n",
       "  'token_str': 'boss'},\n",
       " {'sequence': '[CLS] lee hsien loong is the pm of amk [SEP]',\n",
       "  'score': 0.06748040020465851,\n",
       "  'token': 7610,\n",
       "  'token_str': 'pm'},\n",
       " {'sequence': '[CLS] lee hsien loong is the mayor of amk [SEP]',\n",
       "  'score': 0.03794284909963608,\n",
       "  'token': 3664,\n",
       "  'token_str': 'mayor'}]"
      ]
     },
     "execution_count": 11,
     "metadata": {},
     "output_type": "execute_result"
    }
   ],
   "source": [
    "unmasker(\"lee hsien loong is the [MASK] of amk\")"
   ]
  },
  {
   "cell_type": "code",
   "execution_count": 12,
   "metadata": {},
   "outputs": [
    {
     "data": {
      "text/plain": [
       "[{'sequence': '[CLS] lee kuan yew is the father of lee hsien loong [SEP]',\n",
       "  'score': 0.7821384072303772,\n",
       "  'token': 2269,\n",
       "  'token_str': 'father'},\n",
       " {'sequence': '[CLS] lee kuan yew is the grandfather of lee hsien loong [SEP]',\n",
       "  'score': 0.16358590126037598,\n",
       "  'token': 5615,\n",
       "  'token_str': 'grandfather'},\n",
       " {'sequence': '[CLS] lee kuan yew is the ancestor of lee hsien loong [SEP]',\n",
       "  'score': 0.020847953855991364,\n",
       "  'token': 13032,\n",
       "  'token_str': 'ancestor'},\n",
       " {'sequence': '[CLS] lee kuan yew is the brother of lee hsien loong [SEP]',\n",
       "  'score': 0.006570274010300636,\n",
       "  'token': 2567,\n",
       "  'token_str': 'brother'},\n",
       " {'sequence': '[CLS] lee kuan yew is the predecessor of lee hsien loong [SEP]',\n",
       "  'score': 0.003436507424339652,\n",
       "  'token': 8646,\n",
       "  'token_str': 'predecessor'}]"
      ]
     },
     "execution_count": 12,
     "metadata": {},
     "output_type": "execute_result"
    }
   ],
   "source": [
    "unmasker(\"lee kuan yew is the [MASK] of lee hsien loong\")"
   ]
  },
  {
   "cell_type": "code",
   "execution_count": 13,
   "metadata": {},
   "outputs": [
    {
     "data": {
      "text/plain": [
       "[{'sequence': '[CLS] singapore gained independence in 1965 [SEP]',\n",
       "  'score': 0.9868552088737488,\n",
       "  'token': 3551,\n",
       "  'token_str': '1965'},\n",
       " {'sequence': '[CLS] singapore gained independence in 1957 [SEP]',\n",
       "  'score': 0.0034552591387182474,\n",
       "  'token': 3890,\n",
       "  'token_str': '1957'},\n",
       " {'sequence': '[CLS] singapore gained independence in 1959 [SEP]',\n",
       "  'score': 0.002683347323909402,\n",
       "  'token': 3851,\n",
       "  'token_str': '1959'},\n",
       " {'sequence': '[CLS] singapore gained independence in 1963 [SEP]',\n",
       "  'score': 0.0014089902397245169,\n",
       "  'token': 3699,\n",
       "  'token_str': '1963'},\n",
       " {'sequence': '[CLS] singapore gained independence in 1960 [SEP]',\n",
       "  'score': 0.000977560761384666,\n",
       "  'token': 3624,\n",
       "  'token_str': '1960'}]"
      ]
     },
     "execution_count": 13,
     "metadata": {},
     "output_type": "execute_result"
    }
   ],
   "source": [
    "unmasker(\"singapore gained independence in [MASK]\")"
   ]
  }
 ],
 "metadata": {
  "kernelspec": {
   "display_name": "NLP",
   "language": "python",
   "name": "nlp"
  },
  "language_info": {
   "codemirror_mode": {
    "name": "ipython",
    "version": 3
   },
   "file_extension": ".py",
   "mimetype": "text/x-python",
   "name": "python",
   "nbconvert_exporter": "python",
   "pygments_lexer": "ipython3",
   "version": "3.8.5"
  },
  "toc": {
   "base_numbering": 1,
   "nav_menu": {},
   "number_sections": true,
   "sideBar": true,
   "skip_h1_title": false,
   "title_cell": "Table of Contents",
   "title_sidebar": "Contents",
   "toc_cell": false,
   "toc_position": {},
   "toc_section_display": true,
   "toc_window_display": false
  },
  "varInspector": {
   "cols": {
    "lenName": 16,
    "lenType": 16,
    "lenVar": 40
   },
   "kernels_config": {
    "python": {
     "delete_cmd_postfix": "",
     "delete_cmd_prefix": "del ",
     "library": "var_list.py",
     "varRefreshCmd": "print(var_dic_list())"
    },
    "r": {
     "delete_cmd_postfix": ") ",
     "delete_cmd_prefix": "rm(",
     "library": "var_list.r",
     "varRefreshCmd": "cat(var_dic_list()) "
    }
   },
   "types_to_exclude": [
    "module",
    "function",
    "builtin_function_or_method",
    "instance",
    "_Feature"
   ],
   "window_display": false
  }
 },
 "nbformat": 4,
 "nbformat_minor": 4
}
